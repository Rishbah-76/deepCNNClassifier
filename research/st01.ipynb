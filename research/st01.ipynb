{
 "cells": [
  {
   "cell_type": "code",
   "execution_count": 1,
   "metadata": {},
   "outputs": [],
   "source": [
    "from fileinput import filename\n",
    "import os\n",
    "import urllib.request as request\n",
    "from zipfile import ZipFile\n",
    "from collections import namedtuple\n",
    "\n",
    "\n",
    "from deepclassifier.constants import *\n",
    "from deepclassifier.utils.common import read_yaml, create_directories\n"
   ]
  },
  {
   "cell_type": "code",
   "execution_count": 2,
   "metadata": {},
   "outputs": [],
   "source": [
    "#os.chdir(\"deepCNNClassifier\")"
   ]
  },
  {
   "cell_type": "code",
   "execution_count": 3,
   "metadata": {},
   "outputs": [],
   "source": [
    "os.chdir(\"../\")"
   ]
  },
  {
   "cell_type": "code",
   "execution_count": 4,
   "metadata": {},
   "outputs": [],
   "source": [
    "DataIngestionConfig=namedtuple(\"DataIngestionConfig\",[\n",
    "    \"root_dir\",\n",
    "    \"source_URL\",\n",
    "    \"local_data_file\",\n",
    "    \"unzip_dir\"\n",
    "])"
   ]
  },
  {
   "cell_type": "code",
   "execution_count": 5,
   "metadata": {},
   "outputs": [],
   "source": [
    "class ConfigurationManager:\n",
    "    def __init__(self,\n",
    "        config_file_path=CONFIG_FILE_PATH,params_file_path=PARAMS_FILE_PATH):\n",
    "        self.config=read_yaml(config_file_path)\n",
    "        self.params=read_yaml(params_file_path)\n",
    "        create_directories([self.config.artifacts_root])\n",
    "\n",
    "    def get_data_ingestion_config(self)->DataIngestionConfig:\n",
    "        config=self.config.data_ingestion\n",
    "        create_directories([config.root_dir])\n",
    "\n",
    "        data_ingestion_config=DataIngestionConfig(\n",
    "            root_dir=config.root_dir,\n",
    "            source_URL=config.source_URL,\n",
    "            local_data_file=config.local_data_file,\n",
    "            unzip_dir=config.unzip_dir \n",
    "        )\n",
    "        return data_ingestion_config"
   ]
  },
  {
   "cell_type": "code",
   "execution_count": 6,
   "metadata": {},
   "outputs": [],
   "source": [
    "        \n",
    "class DataIngestionComponent:\n",
    "    def __init__(self,config: DataIngestionConfig):\n",
    "        self.config=config\n",
    "    \n",
    "    def download_files(self): # will downaload as data.zip file\n",
    "        if not os.path.exists(self.config.local_data_file):\n",
    "            filename, header= request.urlretrieve(\n",
    "                url= self.config.source_URL,\n",
    "                filename=self.config.local_data_file\n",
    "            )\n",
    "\n",
    "    def _getupdated_list_of_files(self,list_of_files: list):\n",
    "        return [f for f in list_of_files if f.endswith(\".jpg\") and (\"Cat\" in f or \"Dog\" in f )]\n",
    "\n",
    "    def _clean(self, zipf: ZipFile, f: str, working_dir: str):\n",
    "        target_file_path=os.path.join(working_dir,f)\n",
    "        if not os.path.exists(target_file_path):\n",
    "            zipf.extract(f, working_dir)\n",
    "\n",
    "        if os.path.getsize(target_file_path) == 0:\n",
    "            os.remove(target_file_path)\n",
    "\n",
    "    def unzip_and_clean(self):\n",
    "        with ZipFile(file=self.config.local_data_file,mode=\"r\") as zipf:\n",
    "            list_of_files=zipf.namelist()\n",
    "            updated_list_of_files=self._getupdated_list_of_files(list_of_files)\n",
    "            for f in updated_list_of_files:\n",
    "                self._clean(zipf,f,self.config.unzip_dir)\n"
   ]
  },
  {
   "cell_type": "code",
   "execution_count": 7,
   "metadata": {},
   "outputs": [
    {
     "data": {
      "text/plain": [
       "['.git',\n",
       " '.gitignore',\n",
       " 'artifacts',\n",
       " 'configs',\n",
       " 'dvc.yaml',\n",
       " 'github',\n",
       " 'init_setup.sh',\n",
       " 'LICENSE',\n",
       " 'params.yaml',\n",
       " 'pyproject.toml',\n",
       " 'README.md',\n",
       " 'requirements.txt',\n",
       " 'requirements_dev.txt',\n",
       " 'research',\n",
       " 'setup.cfg',\n",
       " 'setup.py',\n",
       " 'src',\n",
       " 'template.py',\n",
       " 'tests',\n",
       " 'tox.ini']"
      ]
     },
     "execution_count": 7,
     "metadata": {},
     "output_type": "execute_result"
    }
   ],
   "source": [
    "os.listdir()"
   ]
  },
  {
   "cell_type": "code",
   "execution_count": 8,
   "metadata": {},
   "outputs": [
    {
     "name": "stdout",
     "output_type": "stream",
     "text": [
      "[2022-10-31 16:41:12,489: INFO: common]: yaml file: configs\\config.yaml loaded successfully\n",
      "[2022-10-31 16:41:12,492: INFO: common]: yaml file: params.yaml loaded successfully\n",
      "[2022-10-31 16:41:12,493: INFO: common]: created directory at: artifacts\n",
      "[2022-10-31 16:41:12,495: INFO: common]: created directory at: artifacts/data_ingestion\n"
     ]
    },
    {
     "ename": "AttributeError",
     "evalue": "'str' object has no attribute 'extract'",
     "output_type": "error",
     "traceback": [
      "\u001b[1;31m---------------------------------------------------------------------------\u001b[0m",
      "\u001b[1;31mAttributeError\u001b[0m                            Traceback (most recent call last)",
      "Cell \u001b[1;32mIn [8], line 8\u001b[0m\n\u001b[0;32m      6\u001b[0m     data_ingestion\u001b[39m.\u001b[39munzip_and_clean()\n\u001b[0;32m      7\u001b[0m \u001b[39mexcept\u001b[39;00m \u001b[39mException\u001b[39;00m \u001b[39mas\u001b[39;00m e:\n\u001b[1;32m----> 8\u001b[0m     \u001b[39mraise\u001b[39;00m e\n",
      "Cell \u001b[1;32mIn [8], line 6\u001b[0m\n\u001b[0;32m      4\u001b[0m     data_ingestion \u001b[39m=\u001b[39m DataIngestionComponent(config\u001b[39m=\u001b[39mdata_ingestion_config)\n\u001b[0;32m      5\u001b[0m     data_ingestion\u001b[39m.\u001b[39mdownload_files()\n\u001b[1;32m----> 6\u001b[0m     data_ingestion\u001b[39m.\u001b[39;49munzip_and_clean()\n\u001b[0;32m      7\u001b[0m \u001b[39mexcept\u001b[39;00m \u001b[39mException\u001b[39;00m \u001b[39mas\u001b[39;00m e:\n\u001b[0;32m      8\u001b[0m     \u001b[39mraise\u001b[39;00m e\n",
      "Cell \u001b[1;32mIn [6], line 28\u001b[0m, in \u001b[0;36mDataIngestionComponent.unzip_and_clean\u001b[1;34m(self)\u001b[0m\n\u001b[0;32m     26\u001b[0m updated_list_of_files\u001b[39m=\u001b[39m\u001b[39mself\u001b[39m\u001b[39m.\u001b[39m_getupdated_list_of_files(list_of_files)\n\u001b[0;32m     27\u001b[0m \u001b[39mfor\u001b[39;00m f \u001b[39min\u001b[39;00m updated_list_of_files:\n\u001b[1;32m---> 28\u001b[0m     \u001b[39mself\u001b[39;49m\u001b[39m.\u001b[39;49m_clean(zipf,f,\u001b[39mself\u001b[39;49m\u001b[39m.\u001b[39;49mconfig\u001b[39m.\u001b[39;49munzip_dir)\n",
      "Cell \u001b[1;32mIn [6], line 18\u001b[0m, in \u001b[0;36mDataIngestionComponent._clean\u001b[1;34m(self, zipf, f, working_dir)\u001b[0m\n\u001b[0;32m     16\u001b[0m target_file_path\u001b[39m=\u001b[39mos\u001b[39m.\u001b[39mpath\u001b[39m.\u001b[39mjoin(working_dir,f)\n\u001b[0;32m     17\u001b[0m \u001b[39mif\u001b[39;00m \u001b[39mnot\u001b[39;00m os\u001b[39m.\u001b[39mpath\u001b[39m.\u001b[39mexists(target_file_path):\n\u001b[1;32m---> 18\u001b[0m     f\u001b[39m.\u001b[39;49mextract(f, working_dir)\n\u001b[0;32m     20\u001b[0m \u001b[39mif\u001b[39;00m os\u001b[39m.\u001b[39mpath\u001b[39m.\u001b[39mgetsize(target_file_path) \u001b[39m==\u001b[39m \u001b[39m0\u001b[39m:\n\u001b[0;32m     21\u001b[0m     os\u001b[39m.\u001b[39mremove(target_file_path)\n",
      "\u001b[1;31mAttributeError\u001b[0m: 'str' object has no attribute 'extract'"
     ]
    }
   ],
   "source": [
    "try:\n",
    "    config = ConfigurationManager()\n",
    "    data_ingestion_config = config.get_data_ingestion_config()\n",
    "    data_ingestion = DataIngestionComponent(config=data_ingestion_config)\n",
    "    data_ingestion.download_files()\n",
    "    data_ingestion.unzip_and_clean()\n",
    "except Exception as e:\n",
    "    raise e"
   ]
  },
  {
   "cell_type": "code",
   "execution_count": null,
   "metadata": {},
   "outputs": [
    {
     "data": {
      "text/plain": [
       "['logs', 'st01.ipynb', 'st01.py', 'trails.ipynb']"
      ]
     },
     "execution_count": 7,
     "metadata": {},
     "output_type": "execute_result"
    }
   ],
   "source": [
    "os.listdir()"
   ]
  },
  {
   "cell_type": "code",
   "execution_count": null,
   "metadata": {},
   "outputs": [],
   "source": []
  }
 ],
 "metadata": {
  "kernelspec": {
   "display_name": "Python 3.8.13 ('deepCNNApp')",
   "language": "python",
   "name": "python3"
  },
  "language_info": {
   "codemirror_mode": {
    "name": "ipython",
    "version": 3
   },
   "file_extension": ".py",
   "mimetype": "text/x-python",
   "name": "python",
   "nbconvert_exporter": "python",
   "pygments_lexer": "ipython3",
   "version": "3.8.13"
  },
  "orig_nbformat": 4,
  "vscode": {
   "interpreter": {
    "hash": "727dc544e59e48ea272bf1c6894bf59b6317d21260314aea373ae986286c2086"
   }
  }
 },
 "nbformat": 4,
 "nbformat_minor": 2
}
